{
 "cells": [
  {
   "cell_type": "code",
   "execution_count": 1,
   "metadata": {},
   "outputs": [],
   "source": [
    "import tensorflow as tf\n",
    "import numpy as np\n",
    "import json\n",
    "import re\n",
    "from tensorflow.keras.models import Model\n",
    "from tensorflow.keras.layers import Input, Embedding, Dense, GRU, LSTM\n",
    "from keras.preprocessing.text import tokenizer_from_json"
   ]
  },
  {
   "cell_type": "code",
   "execution_count": 2,
   "metadata": {},
   "outputs": [],
   "source": [
    "# import preprocessed data\n",
    "\n",
    "with open('./preprocessed_data/questions.json', 'r') as f:\n",
    "    json_data = json.load(f)\n",
    "    question_corpus = tokenizer_from_json(json_data)\n",
    "    f.close()\n",
    "\n",
    "with open('./preprocessed_data/answers.json', 'r') as f:\n",
    "    json_data = json.load(f)\n",
    "    answer_corpus = tokenizer_from_json(json_data)\n",
    "    f.close()\n",
    "\n",
    "npzfile = np.load('./preprocessed_data/data.npz') "
   ]
  },
  {
   "cell_type": "code",
   "execution_count": 3,
   "metadata": {},
   "outputs": [],
   "source": [
    "# some unknown reason make the corpus contain all words and labels in raw data rather than a vocabulary with limited size\n",
    "# so we have to build the dict manually\n",
    "q_word2ind={e:i for e,i in question_corpus.word_index.items() if i <= 8000}\n",
    "q_ind2word={e:i for i,e in q_word2ind.items()}\n",
    "a_word2ind={e:i for e,i in answer_corpus.word_index.items() if i <= 8000}\n",
    "a_ind2word={e:i for i,e in a_word2ind.items()}"
   ]
  },
  {
   "cell_type": "code",
   "execution_count": null,
   "metadata": {},
   "outputs": [],
   "source": [
    "# define encoder\n",
    "# notice that the encoder at here is totally same with the encoder in training model\n",
    "def create_encoder(inputdim, embeddingsize, inputlen, n_units):\n",
    "\n",
    "    encoder_input = Input((inputlen,))\n",
    "    encoder_embed = Embedding(inputdim+1, embeddingsize)(encoder_input)\n",
    "    encoder = LSTM(n_units, return_state = True)\n",
    "    _, encoder_h, encoder_c = encoder(encoder_embed)\n",
    "    \n",
    "    encoder=Model(encoder_input, [encoder_h,encoder_c])\n",
    "    \n",
    "    return encoder"
   ]
  },
  {
   "cell_type": "code",
   "execution_count": 4,
   "metadata": {},
   "outputs": [],
   "source": [
    "# define decoder\n",
    "# notice that we use inference model at here, which is a little different with the decoder in training model\n",
    "def create_decoder(inputdim, embeddingsize,inputlen, n_units):\n",
    "    # the size of input at here is 1 because we want to predict the answer step by step, each time only input 1 word\n",
    "    decoder_input = Input((1,))\n",
    "    initial_stateh = Input((n_units,))\n",
    "    initial_statec = Input((n_units,))\n",
    "    encoder_state = [initial_stateh,initial_statec]\n",
    "    decoder_embed = Embedding(inputdim+1, embeddingsize,input_length = 1)(decoder_input)\n",
    "    decoder = LSTM(n_units, return_sequences = True, return_state = True)\n",
    "    # in training model, we dont use the state h & c. but in inference model, we do\n",
    "    decoder_output, decoder_h, decoder_c = decoder(decoder_embed,initial_state = encoder_state)\n",
    "    decoder_dense = Dense(inputdim+1, activation = 'softmax')\n",
    "    decoder_output_ = decoder_dense(decoder_output)\n",
    "    \n",
    "    decoder=Model([decoder_input,initial_stateh,initial_statec],decoder_output_)\n",
    "    \n",
    "    return decoder"
   ]
  },
  {
   "cell_type": "code",
   "execution_count": 5,
   "metadata": {},
   "outputs": [],
   "source": [
    "# define hyperparameters\n",
    "\n",
    "N_Unit = 256\n",
    "EmbeddingSize = 128\n",
    "VocabSize = 8000 \n",
    "QuestionLen = npzfile['arr_0'].shape[1]\n",
    "AnswerLen = npzfile['arr_1'].shape[1]"
   ]
  },
  {
   "cell_type": "code",
   "execution_count": 6,
   "metadata": {},
   "outputs": [],
   "source": [
    "# define hyperparameters\n",
    "\n",
    "BatchSize = 64\n",
    "N_Unit = 256\n",
    "EmbeddingSize = 128\n",
    "VocabSize = 8000 \n",
    "# theoretically, vocabulary size should be len(question_corpus.word_index)+1. \n",
    "# however, seems like the 'num_words' didnt filter the tokenizer. so we assign the number manually\n",
    "QuestionLen = npzfile['arr_0'].shape[1]\n",
    "AnswerLen = npzfile['arr_1'].shape[1]"
   ]
  },
  {
   "cell_type": "code",
   "execution_count": 7,
   "metadata": {},
   "outputs": [],
   "source": [
    "encoder=create_encoder(VocabSize,EmbeddingSize,QuestionLen,N_Unit)"
   ]
  },
  {
   "cell_type": "code",
   "execution_count": 8,
   "metadata": {},
   "outputs": [
    {
     "name": "stdout",
     "output_type": "stream",
     "text": [
      "Model: \"model\"\n",
      "_________________________________________________________________\n",
      "Layer (type)                 Output Shape              Param #   \n",
      "=================================================================\n",
      "input_1 (InputLayer)         [(None, 6)]               0         \n",
      "_________________________________________________________________\n",
      "embedding (Embedding)        (None, 6, 128)            1024128   \n",
      "_________________________________________________________________\n",
      "gru (GRU)                    [(None, 256), (None, 256) 296448    \n",
      "=================================================================\n",
      "Total params: 1,320,576\n",
      "Trainable params: 1,320,576\n",
      "Non-trainable params: 0\n",
      "_________________________________________________________________\n"
     ]
    }
   ],
   "source": [
    "encoder.load_weights('./trained_model/lstm_encoder_weights.h5')"
   ]
  },
  {
   "cell_type": "code",
   "execution_count": 9,
   "metadata": {},
   "outputs": [],
   "source": [
    "decoder=create_decoder(VocabSize,EmbeddingSize,N_Unit)"
   ]
  },
  {
   "cell_type": "code",
   "execution_count": 10,
   "metadata": {},
   "outputs": [
    {
     "name": "stdout",
     "output_type": "stream",
     "text": [
      "Model: \"model_1\"\n",
      "__________________________________________________________________________________________________\n",
      "Layer (type)                    Output Shape         Param #     Connected to                     \n",
      "==================================================================================================\n",
      "input_2 (InputLayer)            [(None, 1)]          0                                            \n",
      "__________________________________________________________________________________________________\n",
      "embedding_1 (Embedding)         (None, 1, 128)       1024128     input_2[0][0]                    \n",
      "__________________________________________________________________________________________________\n",
      "input_3 (InputLayer)            [(None, 256)]        0                                            \n",
      "__________________________________________________________________________________________________\n",
      "gru_1 (GRU)                     [(None, 1, 256), (No 296448      embedding_1[0][0]                \n",
      "                                                                 input_3[0][0]                    \n",
      "__________________________________________________________________________________________________\n",
      "dense (Dense)                   (None, 1, 8001)      2056257     gru_1[0][0]                      \n",
      "==================================================================================================\n",
      "Total params: 3,376,833\n",
      "Trainable params: 3,376,833\n",
      "Non-trainable params: 0\n",
      "__________________________________________________________________________________________________\n"
     ]
    }
   ],
   "source": [
    "decoder.load_weights('./trained_model/lstm_decoder_weights.h5')"
   ]
  },
  {
   "cell_type": "code",
   "execution_count": 15,
   "metadata": {},
   "outputs": [],
   "source": [
    "def clean_text(text):\n",
    "\n",
    "    # remove unnecessary characters in sentences\n",
    "    \n",
    "    text = text.lower().strip()\n",
    "    text = re.sub(r\"i'm\", \"i am\", text)\n",
    "    text = re.sub(r\"he's\", \"he is\", text)\n",
    "    text = re.sub(r\"she's\", \"she is\", text)\n",
    "    text = re.sub(r\"it's\", \"it is\", text)\n",
    "    text = re.sub(r\"that's\", \"that is\", text)\n",
    "    text = re.sub(r\"what's\", \"what is\", text)\n",
    "    text = re.sub(r\"where's\", \"where is\", text)\n",
    "    text = re.sub(r\"there's\", \"there is\", text)\n",
    "    text = re.sub(r\"how's\", \"how is\", text)\n",
    "    text = re.sub(r\"\\'ll\", \" will\", text)\n",
    "    text = re.sub(r\"\\'ve\", \" have\", text)\n",
    "    text = re.sub(r\"\\'re\", \" are\", text)\n",
    "    text = re.sub(r\"\\'d\", \" would\", text)\n",
    "    text = re.sub(r\"\\'re\", \" are\", text)\n",
    "    text = re.sub(r\"won't\", \"will not\", text)\n",
    "    text = re.sub(r\"can't\", \"cannot\", text)\n",
    "    text = re.sub(r\"n't\", \" not\", text)\n",
    "    text = re.sub(r\"n'\", \"ng\", text)\n",
    "    text = re.sub(r\"'bout\", \"about\", text)\n",
    "    text = re.sub(r\"'til\", \"until\", text)\n",
    "    text = re.sub(r'[\" \"]+', \" \", text)\n",
    "    text = re.sub(r\"[-()\\\"#/@;:<>{}`+=~|.!?,]\", \"\", text)\n",
    "    \n",
    "    return text"
   ]
  },
  {
   "cell_type": "code",
   "execution_count": 16,
   "metadata": {},
   "outputs": [],
   "source": [
    "def evaluate(sentence):\n",
    "    \n",
    "    sentence=clean_text(sentence) # clean the input text\n",
    "    encoder_inputs=[]\n",
    "    # convert the input text to index sequence and use unk replace the word not in vocabulary\n",
    "    for word in sentence.split():\n",
    "        if word in q_word2ind.items():\n",
    "            encoder_inputs.append(q_word2ind[word])\n",
    "        elif word not in q_word2ind.items():\n",
    "            encoder_inputs.append(q_word2ind['unk'])\n",
    "\n",
    "    encoder_inputs=tf.keras.preprocessing.sequence.pad_sequences([encoder_inputs],maxlen=QuestionLen,padding='post')\n",
    "    encoder_inputs = tf.convert_to_tensor(encoder_inputs)\n",
    "    encoder_h,encoder_c=encoder(encoder_inputs)\n",
    "    \n",
    "    # initialize the decoder input\n",
    "    decoder_inputs=tf.expand_dims([a_word2ind['bos']], 0)\n",
    "    hidden_h,hidden_c=encoder_h,encoder_c\n",
    "    \n",
    "    result=''\n",
    "    for t in range(AnswerLen):\n",
    "        pred,state_h,state_c=decoder([decoder_inputs,hidden_h,hidden_c])\n",
    "        pred=np.squeeze(pred)\n",
    "        pred_ind=tf.math.argmax(pred).numpy()\n",
    " \n",
    "        if pred_ind==0:   # in dict we dont have label 0, so if the predict is padding stuff, stop the loop\n",
    "            return result\n",
    "        elif a_ind2word[pred_ind]=='eos': # once we get the eos symbol, stop the loop\n",
    "            return result\n",
    "        result+=a_ind2word[pred_ind] + ' '\n",
    "        decoder_inputs=tf.expand_dims([pred_ind],0) # pass the predict index and state vectors to the next input       \n",
    "        hidden_h,hidden_c=state_h,state_C\n",
    "    return result"
   ]
  },
  {
   "cell_type": "code",
   "execution_count": 17,
   "metadata": {},
   "outputs": [],
   "source": [
    "while True:\n",
    "    inputs = input('User :> ')\n",
    "    if inputs == 'quit':\n",
    "        break\n",
    "\n",
    "    result = evaluate(inputs)\n",
    "\n",
    "    print('Bot :> ' + result)"
   ]
  },
  {
   "cell_type": "code",
   "execution_count": null,
   "metadata": {},
   "outputs": [],
   "source": []
  }
 ],
 "metadata": {
  "kernelspec": {
   "display_name": "Python 3",
   "language": "python",
   "name": "python3"
  },
  "language_info": {
   "codemirror_mode": {
    "name": "ipython",
    "version": 3
   },
   "file_extension": ".py",
   "mimetype": "text/x-python",
   "name": "python",
   "nbconvert_exporter": "python",
   "pygments_lexer": "ipython3",
   "version": "3.5.3"
  }
 },
 "nbformat": 4,
 "nbformat_minor": 4
}
