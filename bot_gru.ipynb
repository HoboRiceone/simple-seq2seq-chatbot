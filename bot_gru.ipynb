{
 "cells": [
  {
   "cell_type": "code",
   "execution_count": 18,
   "metadata": {},
   "outputs": [],
   "source": [
    "import tensorflow as tf\n",
    "import numpy as np\n",
    "import json\n",
    "import re\n",
    "from tensorflow.keras.models import Model\n",
    "from tensorflow.keras.layers import Input, Embedding, Dense, GRU, LSTM\n",
    "from keras.preprocessing.text import tokenizer_from_json"
   ]
  },
  {
   "cell_type": "code",
   "execution_count": 19,
   "metadata": {},
   "outputs": [],
   "source": [
    "# import preprocessed data\n",
    "\n",
    "with open('./preprocessed_data/questions.json', 'r') as f:\n",
    "    json_data = json.load(f)\n",
    "    question_corpus = tokenizer_from_json(json_data)\n",
    "    f.close()\n",
    "\n",
    "with open('./preprocessed_data/answers.json', 'r') as f:\n",
    "    json_data = json.load(f)\n",
    "    answer_corpus = tokenizer_from_json(json_data)\n",
    "    f.close()\n",
    "\n",
    "npzfile = np.load('./preprocessed_data/data.npz') "
   ]
  },
  {
   "cell_type": "code",
   "execution_count": 20,
   "metadata": {},
   "outputs": [
    {
     "name": "stdout",
     "output_type": "stream",
     "text": [
      "unk\n"
     ]
    }
   ],
   "source": [
    "q_word2ind={e:i for e,i in question_corpus.word_index.items() if i <= 8000}\n",
    "q_ind2word={e:i for i,e in q_word2ind.items()}"
   ]
  },
  {
   "cell_type": "code",
   "execution_count": 21,
   "metadata": {},
   "outputs": [],
   "source": [
    "a_word2ind={e:i for e,i in answer_corpus.word_index.items() if i <= 8000}\n",
    "a_ind2word={e:i for i,e in a_word2ind.items()}"
   ]
  },
  {
   "cell_type": "code",
   "execution_count": 22,
   "metadata": {},
   "outputs": [],
   "source": [
    "# define encoder\n",
    "# notice that the encoder is totally same with the encoder in training model\n",
    "def create_encoder(inputdim, embeddingsize, inputlen, n_units):\n",
    "\n",
    "    encoder_input = Input((inputlen,))\n",
    "    encoder_embed = Embedding(inputdim+1, embeddingsize)(encoder_input)\n",
    "    encoder = GRU(n_units, return_state = True)\n",
    "    _, encoder_state = encoder(encoder_embed)\n",
    "    \n",
    "    encoder=Model(encoder_input, encoder_state)\n",
    "    \n",
    "    return encoder"
   ]
  },
  {
   "cell_type": "code",
   "execution_count": 23,
   "metadata": {},
   "outputs": [],
   "source": [
    "# define decoder\n",
    "# notice that we use inference model at here, which is a little different with the decoder in training model\n",
    "\n",
    "def create_decoder(inputdim, embeddingsize, n_units):\n",
    "    # input of answers\n",
    "    decoder_input = Input((1,))\n",
    "    # input of encoder state vectors\n",
    "    initial_state = Input((n_units,))\n",
    "\n",
    "    # vectorize input answers\n",
    "    decoder_embed = Embedding(inputdim+1, embeddingsize)(decoder_input)\n",
    "    decoder = GRU(n_units, return_sequences = True, return_state = True)\n",
    "    decoder_output,decoder_state= decoder(decoder_embed,initial_state = initial_state)\n",
    "    # softmax layer, predict the most potential sentence of reply\n",
    "    decoder_dense = Dense(inputdim+1, activation = 'softmax')\n",
    "    decoder_output_ = decoder_dense(decoder_output)\n",
    "    \n",
    "    decoder=Model([decoder_input,initial_state],[decoder_output_,decoder_state])\n",
    "    \n",
    "    return decoder"
   ]
  },
  {
   "cell_type": "code",
   "execution_count": 24,
   "metadata": {},
   "outputs": [],
   "source": [
    "# define hyperparameters\n",
    "\n",
    "N_Unit = 256\n",
    "EmbeddingSize = 128\n",
    "VocabSize = 8000 \n",
    "QuestionLen = npzfile['arr_0'].shape[1]\n",
    "AnswerLen = npzfile['arr_1'].shape[1]"
   ]
  },
  {
   "cell_type": "code",
   "execution_count": 25,
   "metadata": {},
   "outputs": [],
   "source": [
    "encoder=create_encoder(VocabSize,EmbeddingSize,QuestionLen,N_Unit)"
   ]
  },
  {
   "cell_type": "code",
   "execution_count": 26,
   "metadata": {},
   "outputs": [],
   "source": [
    "encoder.load_weights('./trained_model/gru_encoder_weights_test.h5')"
   ]
  },
  {
   "cell_type": "code",
   "execution_count": 27,
   "metadata": {},
   "outputs": [],
   "source": [
    "decoder=create_decoder(VocabSize,EmbeddingSize,N_Unit)"
   ]
  },
  {
   "cell_type": "code",
   "execution_count": 28,
   "metadata": {},
   "outputs": [],
   "source": [
    "decoder.load_weights('./trained_model/gru_decoder_weights_test.h5')"
   ]
  },
  {
   "cell_type": "code",
   "execution_count": 29,
   "metadata": {},
   "outputs": [
    {
     "name": "stdout",
     "output_type": "stream",
     "text": [
      "Model: \"model_3\"\n",
      "__________________________________________________________________________________________________\n",
      "Layer (type)                    Output Shape         Param #     Connected to                     \n",
      "==================================================================================================\n",
      "input_5 (InputLayer)            [(None, 1)]          0                                            \n",
      "__________________________________________________________________________________________________\n",
      "embedding_3 (Embedding)         (None, 1, 128)       1024128     input_5[0][0]                    \n",
      "__________________________________________________________________________________________________\n",
      "input_6 (InputLayer)            [(None, 256)]        0                                            \n",
      "__________________________________________________________________________________________________\n",
      "gru_3 (GRU)                     [(None, 1, 256), (No 296448      embedding_3[0][0]                \n",
      "                                                                 input_6[0][0]                    \n",
      "__________________________________________________________________________________________________\n",
      "dense_1 (Dense)                 (None, 1, 8001)      2056257     gru_3[0][0]                      \n",
      "==================================================================================================\n",
      "Total params: 3,376,833\n",
      "Trainable params: 3,376,833\n",
      "Non-trainable params: 0\n",
      "__________________________________________________________________________________________________\n"
     ]
    }
   ],
   "source": [
    "decoder.summary()"
   ]
  },
  {
   "cell_type": "code",
   "execution_count": 30,
   "metadata": {},
   "outputs": [],
   "source": [
    "def clean_text(text):\n",
    "\n",
    "    # remove unnecessary characters in sentences\n",
    "    \n",
    "    text = text.lower().strip()\n",
    "    text = re.sub(r\"i'm\", \"i am\", text)\n",
    "    text = re.sub(r\"he's\", \"he is\", text)\n",
    "    text = re.sub(r\"she's\", \"she is\", text)\n",
    "    text = re.sub(r\"it's\", \"it is\", text)\n",
    "    text = re.sub(r\"that's\", \"that is\", text)\n",
    "    text = re.sub(r\"what's\", \"what is\", text)\n",
    "    text = re.sub(r\"where's\", \"where is\", text)\n",
    "    text = re.sub(r\"there's\", \"there is\", text)\n",
    "    text = re.sub(r\"how's\", \"how is\", text)\n",
    "    text = re.sub(r\"\\'ll\", \" will\", text)\n",
    "    text = re.sub(r\"\\'ve\", \" have\", text)\n",
    "    text = re.sub(r\"\\'re\", \" are\", text)\n",
    "    text = re.sub(r\"\\'d\", \" would\", text)\n",
    "    text = re.sub(r\"\\'re\", \" are\", text)\n",
    "    text = re.sub(r\"won't\", \"will not\", text)\n",
    "    text = re.sub(r\"can't\", \"cannot\", text)\n",
    "    text = re.sub(r\"n't\", \" not\", text)\n",
    "    text = re.sub(r\"n'\", \"ng\", text)\n",
    "    text = re.sub(r\"'bout\", \"about\", text)\n",
    "    text = re.sub(r\"'til\", \"until\", text)\n",
    "    text = re.sub(r'[\" \"]+', \" \", text)\n",
    "    text = re.sub(r\"[-()\\\"#/@;:<>{}`+=~|.!?,]\", \"\", text)\n",
    "    \n",
    "    return text"
   ]
  },
  {
   "cell_type": "code",
   "execution_count": 43,
   "metadata": {},
   "outputs": [],
   "source": [
    "def evaluate(sentence):\n",
    "    \n",
    "    sentence=clean_text(sentence) # clean the input text\n",
    "    encoder_inputs=[]\n",
    "    # convert the input text to index sequence and use unk replace the word not in vocabulary\n",
    "    for word in sentence.split():\n",
    "        if word in q_word2ind.items():\n",
    "            encoder_inputs.append(q_word2ind[word])\n",
    "        elif word not in q_word2ind.items():\n",
    "            encoder_inputs.append(q_word2ind['unk'])\n",
    "            \n",
    "            \n",
    "    encoder_inputs=tf.keras.preprocessing.sequence.pad_sequences([encoder_inputs],maxlen=QuestionLen,padding='post')\n",
    "    encoder_inputs = tf.convert_to_tensor(encoder_inputs)\n",
    "    encoder_state=encoder(encoder_inputs)\n",
    "    decoder_inputs=tf.expand_dims([a_word2ind['bos']], 0)\n",
    "    hidden_state=encoder_state\n",
    "    \n",
    "    result=''\n",
    "    for t in range(AnswerLen):\n",
    "        pred,state=decoder([decoder_inputs,hidden_state])\n",
    "        pred=np.squeeze(pred)\n",
    "        pred_ind=tf.math.argmax(pred).numpy()\n",
    "        #pred_ind=np.random.choice(VocabSize+1,p=pred)\n",
    "        if pred_ind==0:\n",
    "            return result\n",
    "        elif a_ind2word[pred_ind]=='eos':\n",
    "            return result\n",
    "        result+=a_ind2word[pred_ind] + ' '\n",
    "        decoder_inputs=tf.expand_dims([pred_ind],0)        \n",
    "        hidden_state=state\n",
    "    return result"
   ]
  },
  {
   "cell_type": "code",
   "execution_count": 46,
   "metadata": {},
   "outputs": [
    {
     "name": "stdin",
     "output_type": "stream",
     "text": [
      "User :>  how are you\n"
     ]
    },
    {
     "name": "stdout",
     "output_type": "stream",
     "text": [
      "Bot :> fuck you \n"
     ]
    },
    {
     "name": "stdin",
     "output_type": "stream",
     "text": [
      "User :>  really? insult?\n"
     ]
    },
    {
     "name": "stdout",
     "output_type": "stream",
     "text": [
      "Bot :> i am sorry \n"
     ]
    },
    {
     "name": "stdin",
     "output_type": "stream",
     "text": [
      "User :>  okay, i forgive you\n"
     ]
    },
    {
     "name": "stdout",
     "output_type": "stream",
     "text": [
      "Bot :> and nice \n"
     ]
    },
    {
     "name": "stdin",
     "output_type": "stream",
     "text": [
      "User :>  so let's talk\n"
     ]
    },
    {
     "name": "stdout",
     "output_type": "stream",
     "text": [
      "Bot :> fuck you \n"
     ]
    },
    {
     "name": "stdin",
     "output_type": "stream",
     "text": [
      "User :>  again ha ?\n"
     ]
    },
    {
     "name": "stdout",
     "output_type": "stream",
     "text": [
      "Bot :> i am sorry \n"
     ]
    },
    {
     "name": "stdin",
     "output_type": "stream",
     "text": [
      "User :>  who are you\n"
     ]
    },
    {
     "name": "stdout",
     "output_type": "stream",
     "text": [
      "Bot :> fuck you \n"
     ]
    },
    {
     "name": "stdin",
     "output_type": "stream",
     "text": [
      "User :>  are you a robot or a human\n"
     ]
    },
    {
     "name": "stdout",
     "output_type": "stream",
     "text": [
      "Bot :> all right then \n"
     ]
    },
    {
     "name": "stdin",
     "output_type": "stream",
     "text": [
      "User :>  where are you\n"
     ]
    },
    {
     "name": "stdout",
     "output_type": "stream",
     "text": [
      "Bot :> fuck you \n"
     ]
    },
    {
     "name": "stdin",
     "output_type": "stream",
     "text": [
      "User :>  you\n"
     ]
    },
    {
     "name": "stdout",
     "output_type": "stream",
     "text": [
      "Bot :> what \n"
     ]
    },
    {
     "name": "stdin",
     "output_type": "stream",
     "text": [
      "User :>  such a barstard\n"
     ]
    },
    {
     "name": "stdout",
     "output_type": "stream",
     "text": [
      "Bot :> fuck you \n"
     ]
    },
    {
     "name": "stdin",
     "output_type": "stream",
     "text": [
      "User :>  quit\n"
     ]
    }
   ],
   "source": [
    "while True:\n",
    "    inputs = input('User :> ')\n",
    "    if inputs == 'quit':\n",
    "        break\n",
    "\n",
    "    result = evaluate(inputs)\n",
    "\n",
    "    print('Bot :> ' + result)"
   ]
  },
  {
   "cell_type": "code",
   "execution_count": null,
   "metadata": {},
   "outputs": [],
   "source": []
  }
 ],
 "metadata": {
  "kernelspec": {
   "display_name": "Python 3",
   "language": "python",
   "name": "python3"
  },
  "language_info": {
   "codemirror_mode": {
    "name": "ipython",
    "version": 3
   },
   "file_extension": ".py",
   "mimetype": "text/x-python",
   "name": "python",
   "nbconvert_exporter": "python",
   "pygments_lexer": "ipython3",
   "version": "3.5.3"
  }
 },
 "nbformat": 4,
 "nbformat_minor": 4
}
