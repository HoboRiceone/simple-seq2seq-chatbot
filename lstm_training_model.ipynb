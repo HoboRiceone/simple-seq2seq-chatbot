{
 "cells": [
  {
   "cell_type": "code",
   "execution_count": 14,
   "metadata": {},
   "outputs": [],
   "source": [
    "import tensorflow as tf\n",
    "import numpy as np\n",
    "from tensorflow.keras.models import Model\n",
    "from tensorflow.keras.layers import Input, Embedding, Dense, LSTM\n",
    "from tensorflow.keras.preprocessing.text import tokenizer_from_json\n",
    "import json\n",
    "import time"
   ]
  },
  {
   "cell_type": "code",
   "execution_count": 15,
   "metadata": {},
   "outputs": [],
   "source": [
    "# import preprocessed data\n",
    "\n",
    "with open('./preprocessed_data/questions.json', 'r') as f:\n",
    "    json_data = json.load(f)\n",
    "    question_corpus = tokenizer_from_json(json_data)\n",
    "    f.close()\n",
    "\n",
    "with open('./preprocessed_data/answers.json', 'r') as f:\n",
    "    json_data = json.load(f)\n",
    "    answer_corpus = tokenizer_from_json(json_data)\n",
    "    f.close()\n",
    "\n",
    "npzfile = np.load('./preprocessed_data/data.npz') "
   ]
  },
  {
   "cell_type": "code",
   "execution_count": 16,
   "metadata": {},
   "outputs": [],
   "source": [
    "# define encoder\n",
    "\n",
    "def create_encoder(inputdim, embeddingsize, inputlen, n_units):\n",
    "\n",
    "    # encoder\n",
    "    encoder_input = Input((inputlen,))\n",
    "    encoder_embed = Embedding(inputdim+1, embeddingsize)(encoder_input)\n",
    "    # we use embedding layer to vectorize the word. the inputdim indicates the input dimension\n",
    "    # specifically, the inputdim is the length of vocabulary\n",
    "    # and the embeddingsize indicates the output dimension, which is the dimension of word vectors\n",
    "    encoder = LSTM(n_units, return_state = True)\n",
    "    # n_units indicates the number of LSTM units \n",
    "    # the state h & c are the vectors which encoder maps input to\n",
    "    # discard the output of encoder, only state h & c are we need\n",
    "    _, encoder_h, encoder_c = encoder(encoder_embed)\n",
    "    \n",
    "    encoder=Model(encoder_input, [encoder_h,encoder_c])\n",
    "    \n",
    "    return encoder"
   ]
  },
  {
   "cell_type": "code",
   "execution_count": 17,
   "metadata": {},
   "outputs": [],
   "source": [
    "# define decoder. notice that this model is only used in training\n",
    "\n",
    "def create_decoder(inputdim, embeddingsize,inputlen, n_units):\n",
    "    # input of answers\n",
    "    decoder_input = Input((inputlen,))\n",
    "    # input of encoder state vectors\n",
    "    initial_stateh = Input((n_units,))\n",
    "    initial_statec = Input((n_units,))\n",
    "    encoder_state = [initial_stateh,initial_statec]\n",
    "    # vectorize input answers\n",
    "    decoder_embed = Embedding(inputdim+1, embeddingsize,input_length = 1)(decoder_input)\n",
    "    decoder = LSTM(n_units, return_sequences = True, return_state = True)\n",
    "    # the state h & c we dont need in training model\n",
    "    decoder_output, _, _ = decoder(decoder_embed,initial_state = encoder_state)\n",
    "    # softmax layer, predict the most potential sentence of reply\n",
    "    decoder_dense = Dense(inputdim+1, activation = 'softmax')\n",
    "    decoder_output_ = decoder_dense(decoder_output)\n",
    "    \n",
    "    decoder=Model([decoder_input,initial_stateh,initial_statec],decoder_output_)\n",
    "    \n",
    "    return decoder"
   ]
  },
  {
   "cell_type": "code",
   "execution_count": 18,
   "metadata": {},
   "outputs": [],
   "source": [
    "# define hyperparameters\n",
    "\n",
    "BatchSize = 32\n",
    "N_Unit = 256\n",
    "EmbeddingSize = 128\n",
    "VocabSize = 8000 \n",
    "# theoretically, vocabulary size should be len(question_corpus.word_index)+1. \n",
    "# however, seems like the 'num_words' didnt filter the tokenizer. so we assign the number manually\n",
    "QuestionLen = npzfile['arr_0'].shape[1]\n",
    "AnswerLen = npzfile['arr_1'].shape[1]"
   ]
  },
  {
   "cell_type": "code",
   "execution_count": 19,
   "metadata": {},
   "outputs": [],
   "source": [
    "encoder=create_encoder(VocabSize,EmbeddingSize,QuestionLen,N_Unit)"
   ]
  },
  {
   "cell_type": "code",
   "execution_count": 20,
   "metadata": {},
   "outputs": [
    {
     "name": "stdout",
     "output_type": "stream",
     "text": [
      "Model: \"model_2\"\n",
      "_________________________________________________________________\n",
      "Layer (type)                 Output Shape              Param #   \n",
      "=================================================================\n",
      "input_5 (InputLayer)         [(None, 15)]              0         \n",
      "_________________________________________________________________\n",
      "embedding_2 (Embedding)      (None, 15, 128)           1024128   \n",
      "_________________________________________________________________\n",
      "lstm_2 (LSTM)                [(None, 256), (None, 256) 394240    \n",
      "=================================================================\n",
      "Total params: 1,418,368\n",
      "Trainable params: 1,418,368\n",
      "Non-trainable params: 0\n",
      "_________________________________________________________________\n"
     ]
    }
   ],
   "source": [
    "encoder.summary()"
   ]
  },
  {
   "cell_type": "code",
   "execution_count": 21,
   "metadata": {},
   "outputs": [],
   "source": [
    "decoder=create_decoder(VocabSize,EmbeddingSize,AnswerLen,N_Unit)"
   ]
  },
  {
   "cell_type": "code",
   "execution_count": 22,
   "metadata": {},
   "outputs": [
    {
     "name": "stdout",
     "output_type": "stream",
     "text": [
      "Model: \"model_3\"\n",
      "__________________________________________________________________________________________________\n",
      "Layer (type)                    Output Shape         Param #     Connected to                     \n",
      "==================================================================================================\n",
      "input_6 (InputLayer)            [(None, 16)]         0                                            \n",
      "__________________________________________________________________________________________________\n",
      "embedding_3 (Embedding)         (None, 16, 128)      1024128     input_6[0][0]                    \n",
      "__________________________________________________________________________________________________\n",
      "input_7 (InputLayer)            [(None, 256)]        0                                            \n",
      "__________________________________________________________________________________________________\n",
      "input_8 (InputLayer)            [(None, 256)]        0                                            \n",
      "__________________________________________________________________________________________________\n",
      "lstm_3 (LSTM)                   [(None, 16, 256), (N 394240      embedding_3[0][0]                \n",
      "                                                                 input_7[0][0]                    \n",
      "                                                                 input_8[0][0]                    \n",
      "__________________________________________________________________________________________________\n",
      "dense_1 (Dense)                 (None, 16, 8000)     2056000     lstm_3[0][0]                     \n",
      "==================================================================================================\n",
      "Total params: 3,474,368\n",
      "Trainable params: 3,474,368\n",
      "Non-trainable params: 0\n",
      "__________________________________________________________________________________________________\n"
     ]
    }
   ],
   "source": [
    "decoder.summary()"
   ]
  },
  {
   "cell_type": "code",
   "execution_count": 23,
   "metadata": {},
   "outputs": [],
   "source": [
    "# define the optimizer and loss function\n",
    "optimizer = tf.keras.optimizers.Adam(1e-3)\n",
    "def loss_function(real, pred): \n",
    "    loss = tf.keras.losses.categorical_crossentropy(real,pred)\n",
    "    return tf.reduce_mean(loss)"
   ]
  },
  {
   "cell_type": "code",
   "execution_count": 24,
   "metadata": {},
   "outputs": [],
   "source": [
    "# define the training step\n",
    "\n",
    "@tf.function\n",
    "def train_step(enc_inp,dec_inp,targ):\n",
    "    loss=0\n",
    "\n",
    "    with tf.GradientTape() as tape:\n",
    "        encoder_h,encoder_c=encoder(enc_inp)\n",
    "        initial_stateh,initial_statec=encoder_h,encoder_c\n",
    "        prediction=decoder([dec_inp,initial_stateh,initial_statec])\n",
    "        loss=loss_function(targ,prediction)\n",
    "\n",
    "    variables = encoder.trainable_variables + decoder.trainable_variables\n",
    "    gradients = tape.gradient(loss, variables)\n",
    "    optimizer.apply_gradients(zip(gradients, variables))\n",
    "    \n",
    "    return loss"
   ]
  },
  {
   "cell_type": "code",
   "execution_count": 25,
   "metadata": {},
   "outputs": [],
   "source": [
    "# get the training data\n",
    "inputq=npzfile['arr_0']\n",
    "inputa=npzfile['arr_1']\n",
    "targa=np.zeros_like(inputa) # create target data to do teacher forcing training\n",
    "targa[:,0:-1]=inputa[:,1:]  # the target is same as the input answers but 1 timestep shifted to the left"
   ]
  },
  {
   "cell_type": "code",
   "execution_count": null,
   "metadata": {},
   "outputs": [],
   "source": [
    "# use onehot encoding to vectorize the target data\n",
    "def onehotencoding(matrix,dim):\n",
    "    onehot=np.zeros((matrix.shape[0],matrix.shape[1],dim))\n",
    "    for i,sequence in enumerate(matrix):\n",
    "        for j,index in enumerate(sequence):\n",
    "            onehot[i][j][index]=1\n",
    "    return onehot"
   ]
  },
  {
   "cell_type": "code",
   "execution_count": null,
   "metadata": {},
   "outputs": [],
   "source": [
    "# create tensorflow dataset pipeline for faster processing\n",
    "BufferSize = len(npzfile['arr_0'])\n",
    "dataset = tf.data.Dataset.from_tensor_slices((inputq,inputa,targa)).shuffle(BufferSize)\n",
    "dataset = dataset.batch(BatchSize, drop_remainder=True)"
   ]
  },
  {
   "cell_type": "code",
   "execution_count": 26,
   "metadata": {},
   "outputs": [
    {
     "name": "stdout",
     "output_type": "stream",
     "text": [
      "Epoch 1 Batch 0 Loss 4.7217\n",
      "Epoch 1 Batch 1000 Loss 2.4261\n",
      "Epoch 1 Batch 2000 Loss 2.4073\n",
      "Epoch 1 Loss 2.3059\n",
      "Time taken for 1 epoch 279.8809278011322 sec\n",
      "\n",
      "Epoch 2 Batch 0 Loss 2.0750\n",
      "Epoch 2 Batch 1000 Loss 2.5129\n",
      "Epoch 2 Batch 2000 Loss 2.4733\n",
      "Epoch 2 Loss 2.1048\n",
      "Time taken for 1 epoch 269.29883885383606 sec\n",
      "\n",
      "Epoch 3 Batch 0 Loss 2.0025\n",
      "Epoch 3 Batch 1000 Loss 2.2912\n",
      "Epoch 3 Batch 2000 Loss 1.8121\n",
      "Epoch 3 Loss 2.0210\n",
      "Time taken for 1 epoch 270.02436327934265 sec\n",
      "\n",
      "Epoch 4 Batch 0 Loss 1.8412\n",
      "Epoch 4 Batch 1000 Loss 1.9852\n",
      "Epoch 4 Batch 2000 Loss 2.1131\n",
      "Epoch 4 Loss 1.9631\n",
      "Time taken for 1 epoch 272.2730939388275 sec\n",
      "\n",
      "Epoch 5 Batch 0 Loss 1.9290\n",
      "Epoch 5 Batch 1000 Loss 1.8835\n",
      "Epoch 5 Batch 2000 Loss 1.6499\n",
      "Epoch 5 Loss 1.9134\n",
      "Time taken for 1 epoch 271.13661074638367 sec\n",
      "\n",
      "Epoch 6 Batch 0 Loss 1.4894\n",
      "Epoch 6 Batch 1000 Loss 1.7291\n",
      "Epoch 6 Batch 2000 Loss 2.3504\n",
      "Epoch 6 Loss 1.8753\n",
      "Time taken for 1 epoch 271.6530210971832 sec\n",
      "\n",
      "Epoch 7 Batch 0 Loss 1.6108\n",
      "Epoch 7 Batch 1000 Loss 1.8915\n",
      "Epoch 7 Batch 2000 Loss 2.0332\n",
      "Epoch 7 Loss 1.8480\n",
      "Time taken for 1 epoch 270.6345200538635 sec\n",
      "\n",
      "Epoch 8 Batch 0 Loss 1.6495\n",
      "Epoch 8 Batch 1000 Loss 1.9921\n",
      "Epoch 8 Batch 2000 Loss 1.7242\n",
      "Epoch 8 Loss 1.8275\n",
      "Time taken for 1 epoch 269.7605004310608 sec\n",
      "\n",
      "Epoch 9 Batch 0 Loss 1.9192\n",
      "Epoch 9 Batch 1000 Loss 1.9701\n",
      "Epoch 9 Batch 2000 Loss 1.9150\n",
      "Epoch 9 Loss 1.8119\n",
      "Time taken for 1 epoch 270.0228807926178 sec\n",
      "\n",
      "Epoch 10 Batch 0 Loss 1.6559\n",
      "Epoch 10 Batch 1000 Loss 1.8109\n",
      "Epoch 10 Batch 2000 Loss 1.8048\n",
      "Epoch 10 Loss 1.7985\n",
      "Time taken for 1 epoch 270.80197644233704 sec\n",
      "\n",
      "Overall time taken 45.25811222394307 min\n",
      "\n"
     ]
    }
   ],
   "source": [
    "# train the model\n",
    "\n",
    "Epochs = 30\n",
    "steps_per_epoch = len(inputq)//BatchSize\n",
    "overalltime=0\n",
    "\n",
    "for epoch in range(Epochs):\n",
    "    start=time.time()\n",
    "    total_loss=0\n",
    "    \n",
    "    for (batch, (inputq,inputa,targa)) in enumerate(dataset.take(steps_per_epoch)):\n",
    "        targa_onehot=onehotencoding(targa,VocabSize+1)\n",
    "        batch_loss = train_step(inputq,inputa,targa_onehot)\n",
    "        total_loss += batch_loss\n",
    "                \n",
    "    print('Epoch {} Loss {:.4f}'.format(epoch + 1, total_loss / steps_per_epoch))\n",
    "    \n",
    "    stop=time.time()\n",
    "    timetaken=stop-start\n",
    "    print('Time taken for 1 epoch {} sec\\n'.format(timetaken))\n",
    "    \n",
    "    overalltime+=timetaken\n",
    "    \n",
    "print('Overall time taken {} min\\n'.format(overalltime/60))"
   ]
  },
  {
   "cell_type": "code",
   "execution_count": 27,
   "metadata": {},
   "outputs": [],
   "source": [
    "# save parameters after training\n",
    "encoder.save_weights('./trained_model/lstm_enc_weights.h5')\n",
    "decoder.save_weights('./trained_model/lstm_dec_weights.h5')"
   ]
  },
  {
   "cell_type": "code",
   "execution_count": null,
   "metadata": {},
   "outputs": [],
   "source": []
  }
 ],
 "metadata": {
  "kernelspec": {
   "display_name": "Python 3",
   "language": "python",
   "name": "python3"
  },
  "language_info": {
   "codemirror_mode": {
    "name": "ipython",
    "version": 3
   },
   "file_extension": ".py",
   "mimetype": "text/x-python",
   "name": "python",
   "nbconvert_exporter": "python",
   "pygments_lexer": "ipython3",
   "version": "3.5.3"
  }
 },
 "nbformat": 4,
 "nbformat_minor": 4
}
