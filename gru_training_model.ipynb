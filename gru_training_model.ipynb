{
 "cells": [
  {
   "cell_type": "code",
   "execution_count": 1,
   "metadata": {},
   "outputs": [],
   "source": [
    "import tensorflow as tf\n",
    "import numpy as np\n",
    "from tensorflow.keras.models import Model\n",
    "from tensorflow.keras.layers import Input, Embedding, Dense, GRU\n",
    "from tensorflow.keras.preprocessing.text import tokenizer_from_json\n",
    "import json\n",
    "import time"
   ]
  },
  {
   "cell_type": "code",
   "execution_count": 2,
   "metadata": {},
   "outputs": [],
   "source": [
    "# import preprocessed data\n",
    "\n",
    "with open('./preprocessed_data/questions.json', 'r') as f:\n",
    "    json_data = json.load(f)\n",
    "    question_corpus = tokenizer_from_json(json_data)\n",
    "    f.close()\n",
    "\n",
    "with open('./preprocessed_data/answers.json', 'r') as f:\n",
    "    json_data = json.load(f)\n",
    "    answer_corpus = tokenizer_from_json(json_data)\n",
    "    f.close()\n",
    "\n",
    "npzfile = np.load('./preprocessed_data/data.npz') "
   ]
  },
  {
   "cell_type": "code",
   "execution_count": 3,
   "metadata": {},
   "outputs": [],
   "source": [
    "# define encoder\n",
    "\n",
    "def create_encoder(inputdim, embeddingsize, inputlen, n_units):\n",
    "\n",
    "    # encoder\n",
    "    encoder_input = Input((inputlen,))\n",
    "    encoder_embed = Embedding(inputdim+1, embeddingsize)(encoder_input)\n",
    "    # we use embedding layer to vectorize the word. the inputdim indicates the input dimension\n",
    "    # specifically, the inputdim is the length of vocabulary\n",
    "    # inputdim+1 at here is because our word label start from 1 and the 0 in input means something\n",
    "    # we can consider it as a classification problem, the label 1-8000 represent 8000 words and 0 represents padding stuff\n",
    "    # and the embeddingsize indicates the output dimension, which is the dimension of word vectors\n",
    "    encoder = GRU(n_units, return_state = True)\n",
    "    # n_units indicates the number of LSTM units \n",
    "    # the state is the vector which encoder maps input to\n",
    "    # discard the output of encoder, only state vectors are we need\n",
    "    _, encoder_state = encoder(encoder_embed)\n",
    "    \n",
    "    encoder=Model(encoder_input, encoder_state)\n",
    "    \n",
    "    return encoder"
   ]
  },
  {
   "cell_type": "code",
   "execution_count": 4,
   "metadata": {},
   "outputs": [],
   "source": [
    "# define decoder. notice that this model is only used in training\n",
    "\n",
    "def create_decoder(inputdim, embeddingsize,inputlen, n_units):\n",
    "    # input of answers\n",
    "    decoder_input = Input((inputlen,))\n",
    "    # input of encoder state vectors\n",
    "    initial_state = Input((n_units,))\n",
    "\n",
    "    # vectorize input answers\n",
    "    decoder_embed = Embedding(inputdim+1, embeddingsize)(decoder_input)\n",
    "    decoder = GRU(n_units, return_sequences = True, return_state = True)\n",
    "    # the state we dont need in training model\n",
    "    decoder_output,_ = decoder(decoder_embed,initial_state = initial_state)\n",
    "    # softmax layer, predict the most potential sentence of reply\n",
    "    decoder_dense = Dense(inputdim+1, activation = 'softmax')\n",
    "    # at here +1 again because we consider the output 0 also as a label which means the padding stuff in sentences\n",
    "    decoder_output_ = decoder_dense(decoder_output)\n",
    "    \n",
    "    decoder=Model([decoder_input,initial_state],decoder_output_)\n",
    "    \n",
    "    return decoder"
   ]
  },
  {
   "cell_type": "code",
   "execution_count": 5,
   "metadata": {},
   "outputs": [],
   "source": [
    "# define hyperparameters\n",
    "\n",
    "BatchSize = 32 # we choose a small size because of the oom issue\n",
    "N_Unit = 256\n",
    "EmbeddingSize = 128\n",
    "VocabSize = 8000 \n",
    "# theoretically, vocabulary size should be len(question_corpus.word_index)+1. \n",
    "# however, seems like the 'num_words' didnt filter the tokenizer. so we assign the number manually\n",
    "QuestionLen = npzfile['arr_0'].shape[1]\n",
    "AnswerLen = npzfile['arr_1'].shape[1]"
   ]
  },
  {
   "cell_type": "code",
   "execution_count": 6,
   "metadata": {},
   "outputs": [],
   "source": [
    "encoder=create_encoder(VocabSize,EmbeddingSize,QuestionLen,N_Unit)"
   ]
  },
  {
   "cell_type": "code",
   "execution_count": 7,
   "metadata": {},
   "outputs": [
    {
     "name": "stdout",
     "output_type": "stream",
     "text": [
      "Model: \"model\"\n",
      "_________________________________________________________________\n",
      "Layer (type)                 Output Shape              Param #   \n",
      "=================================================================\n",
      "input_1 (InputLayer)         [(None, 12)]              0         \n",
      "_________________________________________________________________\n",
      "embedding (Embedding)        (None, 12, 128)           1024128   \n",
      "_________________________________________________________________\n",
      "gru (GRU)                    [(None, 256), (None, 256) 296448    \n",
      "=================================================================\n",
      "Total params: 1,320,576\n",
      "Trainable params: 1,320,576\n",
      "Non-trainable params: 0\n",
      "_________________________________________________________________\n"
     ]
    }
   ],
   "source": [
    "encoder.summary()"
   ]
  },
  {
   "cell_type": "code",
   "execution_count": 8,
   "metadata": {},
   "outputs": [],
   "source": [
    "decoder=create_decoder(VocabSize,EmbeddingSize,AnswerLen,N_Unit)"
   ]
  },
  {
   "cell_type": "code",
   "execution_count": 9,
   "metadata": {},
   "outputs": [
    {
     "name": "stdout",
     "output_type": "stream",
     "text": [
      "Model: \"model_1\"\n",
      "__________________________________________________________________________________________________\n",
      "Layer (type)                    Output Shape         Param #     Connected to                     \n",
      "==================================================================================================\n",
      "input_2 (InputLayer)            [(None, 11)]         0                                            \n",
      "__________________________________________________________________________________________________\n",
      "embedding_1 (Embedding)         (None, 11, 128)      1024128     input_2[0][0]                    \n",
      "__________________________________________________________________________________________________\n",
      "input_3 (InputLayer)            [(None, 256)]        0                                            \n",
      "__________________________________________________________________________________________________\n",
      "gru_1 (GRU)                     [(None, 11, 256), (N 296448      embedding_1[0][0]                \n",
      "                                                                 input_3[0][0]                    \n",
      "__________________________________________________________________________________________________\n",
      "dense (Dense)                   (None, 11, 8001)     2056257     gru_1[0][0]                      \n",
      "==================================================================================================\n",
      "Total params: 3,376,833\n",
      "Trainable params: 3,376,833\n",
      "Non-trainable params: 0\n",
      "__________________________________________________________________________________________________\n"
     ]
    }
   ],
   "source": [
    "decoder.summary()"
   ]
  },
  {
   "cell_type": "code",
   "execution_count": 10,
   "metadata": {},
   "outputs": [],
   "source": [
    "# define the optimizer and loss function\n",
    "optimizer = tf.keras.optimizers.Adam(1e-3)\n",
    "def loss_function(real, pred): \n",
    "    loss = tf.keras.losses.categorical_crossentropy(real,pred) # the categorical crossentropy expect the ytrue to be onehot\n",
    "    return tf.reduce_mean(loss)                             # so later we will use the onehot encoding to vectorize the data"
   ]
  },
  {
   "cell_type": "code",
   "execution_count": 11,
   "metadata": {},
   "outputs": [],
   "source": [
    "# define the training step\n",
    "\n",
    "@tf.function\n",
    "def train_step(enc_inp,dec_inp,targ):\n",
    "    loss=0\n",
    "\n",
    "    with tf.GradientTape() as tape:\n",
    "        encoder_state=encoder(enc_inp)\n",
    "        initial_state=encoder_state\n",
    "        prediction=decoder([dec_inp,initial_state])\n",
    "        loss=loss_function(targ,prediction)\n",
    "\n",
    "    variables = encoder.trainable_variables + decoder.trainable_variables\n",
    "    gradients = tape.gradient(loss, variables)\n",
    "    optimizer.apply_gradients(zip(gradients, variables))\n",
    "    \n",
    "    return loss"
   ]
  },
  {
   "cell_type": "code",
   "execution_count": 12,
   "metadata": {},
   "outputs": [],
   "source": [
    "# get the training data\n",
    "inputq=npzfile['arr_0']\n",
    "inputa=npzfile['arr_1']\n",
    "targa=np.zeros_like(inputa) # create target data to do teacher forcing training\n",
    "targa[:,0:-1]=inputa[:,1:]  # the target is same as the input answers but 1 timestep shifted to the left"
   ]
  },
  {
   "cell_type": "code",
   "execution_count": 13,
   "metadata": {},
   "outputs": [],
   "source": [
    "# use onehot encoding to vectorize the target data\n",
    "def onehotencoding(matrix,dim):\n",
    "    onehot=np.zeros((matrix.shape[0],matrix.shape[1],dim))\n",
    "    for i,sequence in enumerate(matrix):\n",
    "        for j,index in enumerate(sequence):\n",
    "            onehot[i][j][index]=1\n",
    "    return onehot"
   ]
  },
  {
   "cell_type": "code",
   "execution_count": 14,
   "metadata": {},
   "outputs": [],
   "source": [
    "# create tensorflow dataset pipeline for faster processing\n",
    "BufferSize = len(npzfile['arr_0'])\n",
    "dataset = tf.data.Dataset.from_tensor_slices((inputq,inputa,targa)).shuffle(BufferSize)\n",
    "dataset = dataset.batch(BatchSize, drop_remainder=True)"
   ]
  },
  {
   "cell_type": "code",
   "execution_count": 15,
   "metadata": {},
   "outputs": [
    {
     "name": "stdout",
     "output_type": "stream",
     "text": [
      "Epoch 1 Loss 2.2898\n",
      "Time taken for 1 epoch 237.3299663066864 sec\n",
      "\n",
      "Epoch 2 Loss 1.9766\n",
      "Time taken for 1 epoch 222.4675109386444 sec\n",
      "\n",
      "Epoch 3 Loss 1.8645\n",
      "Time taken for 1 epoch 223.07515931129456 sec\n",
      "\n",
      "Epoch 4 Loss 1.7674\n",
      "Time taken for 1 epoch 222.40845394134521 sec\n",
      "\n",
      "Epoch 5 Loss 1.6776\n",
      "Time taken for 1 epoch 222.17128920555115 sec\n",
      "\n",
      "Epoch 6 Loss 1.5927\n",
      "Time taken for 1 epoch 222.36492943763733 sec\n",
      "\n",
      "Epoch 7 Loss 1.5131\n",
      "Time taken for 1 epoch 222.143385887146 sec\n",
      "\n",
      "Epoch 8 Loss 1.4389\n",
      "Time taken for 1 epoch 221.87543511390686 sec\n",
      "\n",
      "Epoch 9 Loss 1.3692\n",
      "Time taken for 1 epoch 222.6896731853485 sec\n",
      "\n",
      "Epoch 10 Loss 1.3040\n",
      "Time taken for 1 epoch 223.28253650665283 sec\n",
      "\n",
      "Epoch 11 Loss 1.2417\n",
      "Time taken for 1 epoch 222.8508541584015 sec\n",
      "\n",
      "Epoch 12 Loss 1.1836\n",
      "Time taken for 1 epoch 222.83259224891663 sec\n",
      "\n",
      "Epoch 13 Loss 1.1285\n",
      "Time taken for 1 epoch 223.16070771217346 sec\n",
      "\n",
      "Epoch 14 Loss 1.0768\n",
      "Time taken for 1 epoch 222.4200155735016 sec\n",
      "\n",
      "Epoch 15 Loss 1.0297\n",
      "Time taken for 1 epoch 222.71728372573853 sec\n",
      "\n",
      "Epoch 16 Loss 0.9857\n",
      "Time taken for 1 epoch 222.7705430984497 sec\n",
      "\n",
      "Epoch 17 Loss 0.9449\n",
      "Time taken for 1 epoch 222.6141185760498 sec\n",
      "\n",
      "Epoch 18 Loss 0.9075\n",
      "Time taken for 1 epoch 222.82675909996033 sec\n",
      "\n",
      "Epoch 19 Loss 0.8740\n",
      "Time taken for 1 epoch 222.96839046478271 sec\n",
      "\n",
      "Epoch 20 Loss 0.8426\n",
      "Time taken for 1 epoch 223.03970336914062 sec\n",
      "\n",
      "Epoch 21 Loss 0.8137\n",
      "Time taken for 1 epoch 222.70727634429932 sec\n",
      "\n",
      "Epoch 22 Loss 0.7873\n",
      "Time taken for 1 epoch 222.27258729934692 sec\n",
      "\n",
      "Epoch 23 Loss 0.7635\n",
      "Time taken for 1 epoch 223.30137705802917 sec\n",
      "\n",
      "Epoch 24 Loss 0.7419\n",
      "Time taken for 1 epoch 222.52848839759827 sec\n",
      "\n",
      "Epoch 25 Loss 0.7223\n",
      "Time taken for 1 epoch 222.8319375514984 sec\n",
      "\n",
      "Epoch 26 Loss 0.7032\n",
      "Time taken for 1 epoch 222.87299752235413 sec\n",
      "\n",
      "Epoch 27 Loss 0.6873\n",
      "Time taken for 1 epoch 223.10719180107117 sec\n",
      "\n",
      "Epoch 28 Loss 0.6714\n",
      "Time taken for 1 epoch 222.7193901538849 sec\n",
      "\n",
      "Epoch 29 Loss 0.6574\n",
      "Time taken for 1 epoch 222.61902832984924 sec\n",
      "\n",
      "Epoch 30 Loss 0.6421\n",
      "Time taken for 1 epoch 222.47849130630493 sec\n",
      "\n",
      "Overall time taken 111.59080122709274 min\n",
      "\n"
     ]
    }
   ],
   "source": [
    "# train the model\n",
    "\n",
    "Epochs = 30\n",
    "steps_per_epoch = len(inputq)//BatchSize\n",
    "overalltime=0\n",
    "\n",
    "for epoch in range(Epochs):\n",
    "    start=time.time()\n",
    "    total_loss=0\n",
    "    \n",
    "    for (batch, (inputq,inputa,targa)) in enumerate(dataset.take(steps_per_epoch)):\n",
    "        targa_onehot=onehotencoding(targa,VocabSize+1)\n",
    "        batch_loss = train_step(inputq,inputa,targa_onehot)\n",
    "        total_loss += batch_loss\n",
    "                \n",
    "    print('Epoch {} Loss {:.4f}'.format(epoch + 1, total_loss / steps_per_epoch))\n",
    "    \n",
    "    stop=time.time()\n",
    "    timetaken=stop-start\n",
    "    print('Time taken for 1 epoch {} sec\\n'.format(timetaken))\n",
    "    \n",
    "    overalltime+=timetaken\n",
    "    \n",
    "print('Overall time taken {} min\\n'.format(overalltime/60))"
   ]
  },
  {
   "cell_type": "code",
   "execution_count": 16,
   "metadata": {},
   "outputs": [],
   "source": [
    "# save parameters after training\n",
    "encoder.save_weights('./trained_model/gru_enc_weights_30.h5')\n",
    "decoder.save_weights('./trained_model/gru_dec_weights_30.h5')"
   ]
  },
  {
   "cell_type": "code",
   "execution_count": null,
   "metadata": {},
   "outputs": [],
   "source": []
  }
 ],
 "metadata": {
  "kernelspec": {
   "display_name": "Python 3",
   "language": "python",
   "name": "python3"
  },
  "language_info": {
   "codemirror_mode": {
    "name": "ipython",
    "version": 3
   },
   "file_extension": ".py",
   "mimetype": "text/x-python",
   "name": "python",
   "nbconvert_exporter": "python",
   "pygments_lexer": "ipython3",
   "version": "3.5.3"
  }
 },
 "nbformat": 4,
 "nbformat_minor": 4
}
